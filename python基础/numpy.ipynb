{
 "cells": [
  {
   "cell_type": "markdown",
   "metadata": {},
   "source": [
    "### numpy"
   ]
  },
  {
   "cell_type": "markdown",
   "metadata": {},
   "source": [
    "* nparray()多维数组（矩阵）"
   ]
  },
  {
   "cell_type": "code",
   "execution_count": 1,
   "metadata": {},
   "outputs": [
    {
     "name": "stdout",
     "output_type": "stream",
     "text": [
      "[[0.00819323 0.39138079 0.16109765]\n",
      " [0.95377803 0.23390689 0.59154025]]\n"
     ]
    }
   ],
   "source": [
    "import numpy as np\n",
    "\n",
    "data1 = np.random.rand(2,3)\n",
    "print(data1)"
   ]
  },
  {
   "cell_type": "markdown",
   "metadata": {},
   "source": [
    "* ndim 维度个数\n",
    "* shape 各维度的大小\n",
    "* dtype 数据类型\n"
   ]
  },
  {
   "cell_type": "code",
   "execution_count": 6,
   "metadata": {},
   "outputs": [
    {
     "name": "stdout",
     "output_type": "stream",
     "text": [
      "维度个数 2\n",
      "各维度的大小 (2, 3)\n",
      "数据类型 float64\n"
     ]
    }
   ],
   "source": [
    "print(\"维度个数\",data1.ndim)\n",
    "print(\"各维度的大小\",data1.shape)\n",
    "print(\"数据类型\",data1.dtype)"
   ]
  },
  {
   "cell_type": "markdown",
   "metadata": {},
   "source": [
    "* 创建ndarray"
   ]
  },
  {
   "cell_type": "code",
   "execution_count": 10,
   "metadata": {},
   "outputs": [
    {
     "data": {
      "text/plain": [
       "array([0, 1, 2, 3, 4, 5, 6, 7, 8, 9])"
      ]
     },
     "execution_count": 10,
     "metadata": {},
     "output_type": "execute_result"
    }
   ],
   "source": [
    "# 将list转换为ndarray\n",
    "\n",
    "ls = range(10)\n",
    "ad = np.array(ls)\n",
    "ad"
   ]
  },
  {
   "cell_type": "markdown",
   "metadata": {},
   "source": [
    "在将的数据类型转换为ndarray类型只需要：numpy.array（）"
   ]
  },
  {
   "cell_type": "code",
   "execution_count": 14,
   "metadata": {},
   "outputs": [
    {
     "name": "stdout",
     "output_type": "stream",
     "text": [
      "(range(0, 10), range(0, 10))\n"
     ]
    },
    {
     "data": {
      "text/plain": [
       "array([[0, 1, 2, 3, 4, 5, 6, 7, 8, 9],\n",
       "       [0, 1, 2, 3, 4, 5, 6, 7, 8, 9]])"
      ]
     },
     "execution_count": 14,
     "metadata": {},
     "output_type": "execute_result"
    }
   ],
   "source": [
    "# 二维矩阵\n",
    "lss =(ls,ls)\n",
    "print(lss)\n",
    "add = np.array(lss)\n",
    "add"
   ]
  },
  {
   "cell_type": "code",
   "execution_count": 15,
   "metadata": {},
   "outputs": [
    {
     "data": {
      "text/plain": [
       "array([[0., 0., 0.],\n",
       "       [0., 0., 0.]])"
      ]
     },
     "execution_count": 15,
     "metadata": {},
     "output_type": "execute_result"
    }
   ],
   "source": [
    "np.zeros((2,3))"
   ]
  },
  {
   "cell_type": "code",
   "execution_count": 16,
   "metadata": {},
   "outputs": [
    {
     "data": {
      "text/plain": [
       "array([[1., 1., 1.],\n",
       "       [1., 1., 1.]])"
      ]
     },
     "execution_count": 16,
     "metadata": {},
     "output_type": "execute_result"
    }
   ],
   "source": [
    "np.ones((2,3))"
   ]
  },
  {
   "cell_type": "code",
   "execution_count": 20,
   "metadata": {},
   "outputs": [
    {
     "data": {
      "text/plain": [
       "array([[0.00000000e+000, 4.80231808e-321, 2.47032823e-323],\n",
       "       [1.06184215e-311, 0.00000000e+000, 2.47032823e-323],\n",
       "       [1.06184215e-311, 0.00000000e+000, 1.99111311e+209]])"
      ]
     },
     "execution_count": 20,
     "metadata": {},
     "output_type": "execute_result"
    }
   ],
   "source": [
    "# 空数组，中的值为随机值\n",
    "np.empty((3,3))"
   ]
  },
  {
   "cell_type": "code",
   "execution_count": 28,
   "metadata": {},
   "outputs": [
    {
     "name": "stdout",
     "output_type": "stream",
     "text": [
      "[[1701557112        500 1599436526]\n",
      " [1645630477 1745310583 1825934317]\n",
      " [1801670157  805468270          0]]\n"
     ]
    }
   ],
   "source": [
    "c = np.empty((3,3),int)\n",
    "print(c)"
   ]
  },
  {
   "cell_type": "code",
   "execution_count": 21,
   "metadata": {},
   "outputs": [
    {
     "data": {
      "text/plain": [
       "array([0, 1, 2, 3, 4, 5, 6, 7, 8, 9])"
      ]
     },
     "execution_count": 21,
     "metadata": {},
     "output_type": "execute_result"
    }
   ],
   "source": [
    "# 创建连续数据\n",
    "np.arange(10)"
   ]
  },
  {
   "cell_type": "markdown",
   "metadata": {},
   "source": [
    "* 数据类型转换"
   ]
  },
  {
   "cell_type": "code",
   "execution_count": 32,
   "metadata": {},
   "outputs": [
    {
     "name": "stdout",
     "output_type": "stream",
     "text": [
      "int32\n",
      "float64\n"
     ]
    }
   ],
   "source": [
    "# np.astype()\n",
    "print(c.dtype)\n",
    "\n",
    "n = c.astype(np.float64)\n",
    "print(n.dtype)"
   ]
  },
  {
   "cell_type": "markdown",
   "metadata": {},
   "source": [
    "* 矢量化\n",
    "\n",
    "    矢量运算相同维数上的运算\n",
    "    \n",
    "    矢量和标量之间的运算，将标量转化成和矢量同维度然后计算\n",
    "    "
   ]
  },
  {
   "cell_type": "code",
   "execution_count": 34,
   "metadata": {},
   "outputs": [
    {
     "name": "stdout",
     "output_type": "stream",
     "text": [
      "[[1 2 3]\n",
      " [4 5 6]]\n"
     ]
    }
   ],
   "source": [
    "arr1 = np.array([[1,2,3],\n",
    "                [4,5,6]])\n",
    "print(arr1)"
   ]
  },
  {
   "cell_type": "code",
   "execution_count": 38,
   "metadata": {},
   "outputs": [
    {
     "data": {
      "text/plain": [
       "array([[ 1,  4,  9],\n",
       "       [16, 25, 36]])"
      ]
     },
     "execution_count": 38,
     "metadata": {},
     "output_type": "execute_result"
    }
   ],
   "source": [
    "# 矩阵相乘\n",
    "arr1*arr1"
   ]
  },
  {
   "cell_type": "code",
   "execution_count": 37,
   "metadata": {},
   "outputs": [
    {
     "data": {
      "text/plain": [
       "array([[ 2,  4,  6],\n",
       "       [ 8, 10, 12]])"
      ]
     },
     "execution_count": 37,
     "metadata": {},
     "output_type": "execute_result"
    }
   ],
   "source": [
    "# 矩阵相加\n",
    "arr1+arr1"
   ]
  },
  {
   "cell_type": "code",
   "execution_count": 40,
   "metadata": {},
   "outputs": [
    {
     "data": {
      "text/plain": [
       "array([[ 0., -1., -2.],\n",
       "       [-3., -4., -5.]])"
      ]
     },
     "execution_count": 40,
     "metadata": {},
     "output_type": "execute_result"
    }
   ],
   "source": [
    "# 矢量和标量运算\n",
    "1.0-arr1"
   ]
  },
  {
   "cell_type": "markdown",
   "metadata": {},
   "source": [
    "* 多维数据的索引"
   ]
  },
  {
   "cell_type": "code",
   "execution_count": 43,
   "metadata": {},
   "outputs": [
    {
     "name": "stdout",
     "output_type": "stream",
     "text": [
      "[[-5.]]\n"
     ]
    }
   ],
   "source": [
    "cc = np.array([[ 0., -1., -2.],\n",
    "       [-3., -4., -5.]])\n",
    "print(cc[1:2,2:3])"
   ]
  },
  {
   "cell_type": "markdown",
   "metadata": {},
   "source": [
    "* 条件索引布尔值"
   ]
  },
  {
   "cell_type": "code",
   "execution_count": 54,
   "metadata": {},
   "outputs": [
    {
     "name": "stdout",
     "output_type": "stream",
     "text": [
      "[['a' 'b' 'c']\n",
      " ['d' 'e' 'f']\n",
      " ['g' 'h' 'k']]\n",
      "\n",
      "\n",
      "[[1 2 3]\n",
      " [4 5 6]\n",
      " [7 8 9]]\n",
      "\n",
      "\n",
      "[[False False False]\n",
      " [False False  True]\n",
      " [ True  True  True]]\n",
      "\n",
      "\n",
      "['f' 'g' 'h' 'k']\n"
     ]
    }
   ],
   "source": [
    "w = np.array([[\"a\",\"b\",\"c\"],\n",
    "             [\"d\",\"e\",\"f\"],\n",
    "             [\"g\",\"h\",\"k\"]])\n",
    "print(w)\n",
    "print(\"\\n\")\n",
    "e = np.array([[1,2,3],\n",
    "             [4,5,6],\n",
    "             [7,8,9]])\n",
    "print(e)\n",
    "print(\"\\n\")\n",
    "f = e>5  # 得到布尔矩阵\n",
    "print(f)\n",
    "print(\"\\n\")\n",
    "re = w[f] # 将tru的值挑出 f 就是挑选的条件，可以多条件\n",
    "print(re)"
   ]
  },
  {
   "cell_type": "markdown",
   "metadata": {},
   "source": [
    "* 数组维度转换\n"
   ]
  },
  {
   "cell_type": "code",
   "execution_count": 46,
   "metadata": {},
   "outputs": [
    {
     "name": "stdout",
     "output_type": "stream",
     "text": [
      "[0 1 2 3 4 5 6 7 8 9]\n",
      "[[0 1 2 3 4]\n",
      " [5 6 7 8 9]]\n"
     ]
    }
   ],
   "source": [
    "dd = np.arange(10)\n",
    "print(dd)\n",
    "ds = dd.reshape(2,5)\n",
    "print(ds)"
   ]
  },
  {
   "cell_type": "markdown",
   "metadata": {},
   "source": [
    "* 数组转换"
   ]
  },
  {
   "cell_type": "code",
   "execution_count": 56,
   "metadata": {},
   "outputs": [
    {
     "data": {
      "text/plain": [
       "array([[0, 5],\n",
       "       [1, 6],\n",
       "       [2, 7],\n",
       "       [3, 8],\n",
       "       [4, 9]])"
      ]
     },
     "execution_count": 56,
     "metadata": {},
     "output_type": "execute_result"
    }
   ],
   "source": [
    "# 两维数组转换\n",
    "ds.transpose()"
   ]
  },
  {
   "cell_type": "code",
   "execution_count": 63,
   "metadata": {},
   "outputs": [
    {
     "name": "stdout",
     "output_type": "stream",
     "text": [
      "[[[0.74788494 0.53254342 0.8787127  0.4949899 ]\n",
      "  [0.9181035  0.31356016 0.3695028  0.74866211]\n",
      "  [0.74963473 0.95447915 0.25240623 0.18524722]]\n",
      "\n",
      " [[0.70898456 0.98074673 0.53030589 0.83202091]\n",
      "  [0.86060332 0.50617152 0.79421281 0.07417492]\n",
      "  [0.7665106  0.29365524 0.93840756 0.14058315]]]\n",
      "\n",
      "维度大小 (2, 3, 4)\n",
      "-------------------------数据不好观察，看维度的大小变化---------------------------------------\n",
      "[[[0.74788494 0.9181035  0.74963473]\n",
      "  [0.70898456 0.86060332 0.7665106 ]]\n",
      "\n",
      " [[0.53254342 0.31356016 0.95447915]\n",
      "  [0.98074673 0.50617152 0.29365524]]\n",
      "\n",
      " [[0.8787127  0.3695028  0.25240623]\n",
      "  [0.53030589 0.79421281 0.93840756]]\n",
      "\n",
      " [[0.4949899  0.74866211 0.18524722]\n",
      "  [0.83202091 0.07417492 0.14058315]]]\n",
      "\n",
      "维度大小 (4, 2, 3)\n"
     ]
    }
   ],
   "source": [
    "# 多维数组转换，将维度编号 根据号的变换转换\n",
    "arr3d = np.random.rand(2,3,4) # 此时的维度编号为（0,1,2）三个维度\n",
    "print(arr3d)\n",
    "print(\"\\n维度大小\",arr3d.shape)\n",
    "print(\"-------------------------数据不好观察，看维度的大小变化---------------------------------------\")\n",
    "\n",
    "arr3t = arr3d.transpose(2,0,1)\n",
    "print(arr3t)\n",
    "print(\"\\n维度大小\",arr3t.shape)"
   ]
  },
  {
   "cell_type": "markdown",
   "metadata": {},
   "source": [
    "* 常用的函数\n",
    "\n",
    "    1. ceil（）向上最接近的整数\n",
    "    2. floor（）向下最接近的整数\n",
    "    3. rint（）四舍五入\n",
    "    4. isnan（）判断是否为NaN(not a number)\n",
    "    5. multiply（）乘法运算\n",
    "    6. divide（）除法运算"
   ]
  },
  {
   "cell_type": "code",
   "execution_count": 65,
   "metadata": {},
   "outputs": [
    {
     "data": {
      "text/plain": [
       "array([[0., 1., 2., 3., 4.],\n",
       "       [5., 6., 7., 8., 9.]])"
      ]
     },
     "execution_count": 65,
     "metadata": {},
     "output_type": "execute_result"
    }
   ],
   "source": [
    "np.ceil(ds)"
   ]
  },
  {
   "cell_type": "code",
   "execution_count": 67,
   "metadata": {},
   "outputs": [
    {
     "data": {
      "text/plain": [
       "array([[0., 1., 2., 3., 4.],\n",
       "       [5., 6., 7., 8., 9.]])"
      ]
     },
     "execution_count": 67,
     "metadata": {},
     "output_type": "execute_result"
    }
   ],
   "source": [
    "np.floor(ds)"
   ]
  },
  {
   "cell_type": "code",
   "execution_count": 68,
   "metadata": {},
   "outputs": [
    {
     "data": {
      "text/plain": [
       "array([[0., 1., 2., 3., 4.],\n",
       "       [5., 6., 7., 8., 9.]])"
      ]
     },
     "execution_count": 68,
     "metadata": {},
     "output_type": "execute_result"
    }
   ],
   "source": [
    "np.rint(ds)"
   ]
  },
  {
   "cell_type": "markdown",
   "metadata": {},
   "source": [
    "* np.where 矢量版本的三元表达式（ x if condition else y）"
   ]
  },
  {
   "cell_type": "code",
   "execution_count": 72,
   "metadata": {},
   "outputs": [
    {
     "data": {
      "text/plain": [
       "array([[0, 0, 0, 0, 0],\n",
       "       [0, 1, 1, 1, 1]])"
      ]
     },
     "execution_count": 72,
     "metadata": {},
     "output_type": "execute_result"
    }
   ],
   "source": [
    "# 看看用法 np.where(condition,x,y)\n",
    "np.where(ds>5,1,0)"
   ]
  },
  {
   "cell_type": "markdown",
   "metadata": {},
   "source": [
    "* 常用的统计方法"
   ]
  },
  {
   "cell_type": "markdown",
   "metadata": {},
   "source": [
    "    np.mean \n",
    "\n",
    "    np.sum\n",
    "\n",
    "    np.max\n",
    "\n",
    "    np.min\n",
    "\n",
    "    np.std \n",
    "\n",
    "    np.var\n",
    "\n",
    "    np.argmax\n",
    "\n",
    "    np,argmin\n",
    "\n",
    "    np.cumsum 累加和\n",
    "\n",
    "    np.cumprod 累乘\n",
    "    \n",
    "    在多维数据中的时候要指定维度"
   ]
  },
  {
   "cell_type": "code",
   "execution_count": 74,
   "metadata": {},
   "outputs": [
    {
     "data": {
      "text/plain": [
       "45"
      ]
     },
     "execution_count": 74,
     "metadata": {},
     "output_type": "execute_result"
    }
   ],
   "source": [
    "np.sum(ds)"
   ]
  },
  {
   "cell_type": "code",
   "execution_count": 78,
   "metadata": {},
   "outputs": [
    {
     "data": {
      "text/plain": [
       "array([ 5,  7,  9, 11, 13])"
      ]
     },
     "execution_count": 78,
     "metadata": {},
     "output_type": "execute_result"
    }
   ],
   "source": [
    "np.sum(ds,axis=0) # 指定运算为行加"
   ]
  },
  {
   "cell_type": "markdown",
   "metadata": {},
   "source": [
    "* np.all 全部满足条件"
   ]
  },
  {
   "cell_type": "code",
   "execution_count": 80,
   "metadata": {},
   "outputs": [
    {
     "data": {
      "text/plain": [
       "False"
      ]
     },
     "execution_count": 80,
     "metadata": {},
     "output_type": "execute_result"
    }
   ],
   "source": [
    "np.all(ds>5)"
   ]
  },
  {
   "cell_type": "markdown",
   "metadata": {},
   "source": [
    "* np.any 至少有一个条件满足"
   ]
  },
  {
   "cell_type": "code",
   "execution_count": 81,
   "metadata": {},
   "outputs": [
    {
     "data": {
      "text/plain": [
       "True"
      ]
     },
     "execution_count": 81,
     "metadata": {},
     "output_type": "execute_result"
    }
   ],
   "source": [
    "np.any(ds>5)"
   ]
  },
  {
   "cell_type": "markdown",
   "metadata": {},
   "source": [
    "* np.unique 找到唯一值并排序"
   ]
  },
  {
   "cell_type": "code",
   "execution_count": 82,
   "metadata": {},
   "outputs": [
    {
     "name": "stdout",
     "output_type": "stream",
     "text": [
      "[1 1 1 3 4 3 4]\n"
     ]
    }
   ],
   "source": [
    "bb = np.array([1,1,1,3,4,3,4])\n",
    "print(bb)\n",
    "np.un"
   ]
  },
  {
   "cell_type": "code",
   "execution_count": 83,
   "metadata": {},
   "outputs": [
    {
     "data": {
      "text/plain": [
       "array([1, 3, 4])"
      ]
     },
     "execution_count": 83,
     "metadata": {},
     "output_type": "execute_result"
    }
   ],
   "source": [
    "np.unique(bb)"
   ]
  },
  {
   "cell_type": "markdown",
   "metadata": {},
   "source": [
    "* np.loadtxt() 文件的读取"
   ]
  },
  {
   "cell_type": "code",
   "execution_count": 114,
   "metadata": {
    "scrolled": true
   },
   "outputs": [],
   "source": [
    "np.loadtxt?\n",
    "\n",
    "# np.loadtxt(fname,    #文件名\n",
    "#            dtype=<class 'float'>, # 数据类型\n",
    "#            comments='#', 注释\n",
    "#            delimiter=None,  # 分隔符\n",
    "#            converters=None,\n",
    "#            skiprows=0, \n",
    "#            usecols=None, # 指定列的索引号\n",
    "#            unpack=False, \n",
    "#            ndmin=0, \n",
    "#            encoding='bytes'\n",
    "#           )\n"
   ]
  },
  {
   "cell_type": "code",
   "execution_count": 113,
   "metadata": {},
   "outputs": [
    {
     "data": {
      "text/plain": [
       "array([['196', '242', '3', '881250949'],\n",
       "       ['186', '302', '3', '891717742'],\n",
       "       ['22', '377', '1', '878887116'],\n",
       "       ...,\n",
       "       ['276', '1090', '1', '874795795'],\n",
       "       ['13', '225', '2', '882399156'],\n",
       "       ['12', '203', '3', '879959583']], dtype='<U9')"
      ]
     },
     "execution_count": 113,
     "metadata": {},
     "output_type": "execute_result"
    }
   ],
   "source": [
    "fname=\"./test.csv\"\n",
    "np.loadtxt(fname,\n",
    "           dtype = str,\n",
    "           delimiter = ','          \n",
    "          )"
   ]
  },
  {
   "cell_type": "code",
   "execution_count": null,
   "metadata": {},
   "outputs": [],
   "source": []
  }
 ],
 "metadata": {
  "kernelspec": {
   "display_name": "Python 3",
   "language": "python",
   "name": "python3"
  },
  "language_info": {
   "codemirror_mode": {
    "name": "ipython",
    "version": 3
   },
   "file_extension": ".py",
   "mimetype": "text/x-python",
   "name": "python",
   "nbconvert_exporter": "python",
   "pygments_lexer": "ipython3",
   "version": "3.6.4"
  }
 },
 "nbformat": 4,
 "nbformat_minor": 2
}
