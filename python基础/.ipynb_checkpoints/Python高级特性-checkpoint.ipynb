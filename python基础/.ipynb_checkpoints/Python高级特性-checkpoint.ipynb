{
 "cells": [
  {
   "cell_type": "markdown",
   "metadata": {},
   "source": [
    "### 集合推导式"
   ]
  },
  {
   "cell_type": "markdown",
   "metadata": {},
   "source": [
    "* 列表推导式 使用一句表达式就可以生成一个列表，并且可以实现对数据的过滤，转换的操作"
   ]
  },
  {
   "cell_type": "markdown",
   "metadata": {},
   "source": [
    "    样例：\n",
    "        [exp for item in conllection if [condition]]"
   ]
  },
  {
   "cell_type": "code",
   "execution_count": 21,
   "metadata": {},
   "outputs": [
    {
     "name": "stdout",
     "output_type": "stream",
     "text": [
      "[0, 2, 4, 6, 8]\n",
      "Wall time: 499 µs\n"
     ]
    }
   ],
   "source": [
    "%%time\n",
    "# 简单的循环取值\n",
    "re1 = []\n",
    "for i in range(10):\n",
    "b = lambda x : **2\n",
    "    if i%2==0:\n",
    "        re1.append(i)\n",
    "print(re1)"
   ]
  },
  {
   "cell_type": "code",
   "execution_count": 22,
   "metadata": {
    "scrolled": true
   },
   "outputs": [
    {
     "name": "stdout",
     "output_type": "stream",
     "text": [
      "[0, 2, 4, 6, 8]\n",
      "Wall time: 481 µs\n"
     ]
    }
   ],
   "source": [
    "%%time\n",
    "# 列表推到式\n",
    "re2 = [ i for i in range(10) if i%2==0]\n",
    "print(re2)"
   ]
  },
  {
   "cell_type": "markdown",
   "metadata": {},
   "source": [
    "总结：\n",
    "    通过两种生成列表方式所花费的时间对比可以看出，用列表生成式的时间要少于普通生成的方式。"
   ]
  },
  {
   "cell_type": "code",
   "execution_count": 25,
   "metadata": {},
   "outputs": [
    {
     "name": "stdout",
     "output_type": "stream",
     "text": [
      "['0', '2', '4', '6', '8']\n"
     ]
    }
   ],
   "source": [
    "# 加上过滤和转换\n",
    "re2 = [ str(i) for i in range(10) if i%2==0]\n",
    "print(re2)"
   ]
  },
  {
   "cell_type": "markdown",
   "metadata": {},
   "source": [
    "* 字典推导式"
   ]
  },
  {
   "cell_type": "markdown",
   "metadata": {},
   "source": [
    "    样例：\n",
    "         {key_exp,value_exp for item in conllection if [condition]}"
   ]
  },
  {
   "cell_type": "markdown",
   "metadata": {},
   "source": [
    "* 集合推导式"
   ]
  },
  {
   "cell_type": "markdown",
   "metadata": {},
   "source": [
    "    样例：\n",
    "         {exp for item in conllection if [condition]}"
   ]
  },
  {
   "cell_type": "markdown",
   "metadata": {},
   "source": [
    "### 函数列表"
   ]
  },
  {
   "cell_type": "code",
   "execution_count": 30,
   "metadata": {
    "slideshow": {
     "slide_type": "-"
    }
   },
   "outputs": [
    {
     "name": "stdout",
     "output_type": "stream",
     "text": [
      "['1.25', 'the ', ' na']\n"
     ]
    }
   ],
   "source": [
    "ls = [\"#1.25\",\"#the \",\" na\"]\n",
    "\n",
    "def fun1(a):\n",
    "    for i in a:\n",
    "        b = i.replace(\" \",\"\")\n",
    "    return b\n",
    "\n",
    "def fun2(a):\n",
    "    b = a.replace(\"#\",\"\")\n",
    "    return b\n",
    "def fun12(str_ls,operation):\n",
    "    re = []\n",
    "    for i in str_ls:\n",
    "        for op in operation:\n",
    "            ls1 = op(i)\n",
    "        re.append(ls1)\n",
    "    return re\n",
    "operation = [fun1,fun2]\n",
    "\n",
    "\n",
    "print(fun12(ls,operation))"
   ]
  },
  {
   "cell_type": "markdown",
   "metadata": {},
   "source": [
    "* 匿名函数 lambda 语句执行的结果就是返回值，嵌套在其他的语句中。\n"
   ]
  },
  {
   "cell_type": "code",
   "execution_count": 38,
   "metadata": {
    "scrolled": false
   },
   "outputs": [
    {
     "data": {
      "text/plain": [
       "4"
      ]
     },
     "execution_count": 38,
     "metadata": {},
     "output_type": "execute_result"
    }
   ],
   "source": [
    "b = lambda x : x**2\n",
    "b(2)"
   ]
  },
  {
   "cell_type": "markdown",
   "metadata": {},
   "source": [
    "### 生成器 generator\n",
    "\n",
    "    生成器最初定义的时候是不执行的，只有当我们迭代的时候才开始执行，这样就会节省很多内存。"
   ]
  },
  {
   "cell_type": "code",
   "execution_count": 40,
   "metadata": {},
   "outputs": [
    {
     "name": "stdout",
     "output_type": "stream",
     "text": [
      "<generator object test at 0x00000265FCF62938>\n"
     ]
    }
   ],
   "source": [
    "def test():\n",
    "    for i in range(10):\n",
    "        yield i\n",
    "        \n",
    "tes = test() \n",
    "print(tes) "
   ]
  },
  {
   "cell_type": "code",
   "execution_count": 42,
   "metadata": {},
   "outputs": [
    {
     "name": "stdout",
     "output_type": "stream",
     "text": [
      "0\n",
      "1\n",
      "2\n",
      "3\n",
      "4\n",
      "5\n",
      "6\n",
      "7\n",
      "8\n",
      "9\n"
     ]
    }
   ],
   "source": [
    "for i in tes:\n",
    "    print(i)"
   ]
  },
  {
   "cell_type": "markdown",
   "metadata": {},
   "source": [
    "### 函数式编程"
   ]
  },
  {
   "cell_type": "markdown",
   "metadata": {},
   "source": [
    "* 函数本身可以赋值给变量，变量变为函数\n",
    "* 容许函数本身作为一个参数传递给另一个函数\n",
    "* 容许函数作为返回值"
   ]
  },
  {
   "cell_type": "markdown",
   "metadata": {},
   "source": [
    "* map\n",
    "\n",
    "    map(func,list)解释为将列表中的每个值进行func函数值操作然后返回对象"
   ]
  },
  {
   "cell_type": "code",
   "execution_count": 10,
   "metadata": {},
   "outputs": [
    {
     "name": "stdout",
     "output_type": "stream",
     "text": [
      "[0, 1, 4, 9, 16, 25, 36, 49, 64, 81]\n",
      "[0.0, 1.0, 2.0, 3.0, 4.0, 5.0, 6.0, 7.0, 8.0, 9.0]\n"
     ]
    }
   ],
   "source": [
    "import math\n",
    "# 将中的值列表平方\n",
    "r1 = [x**2 for x in range(10)]\n",
    "print(r1)\n",
    "# 将每个值开平方\n",
    "r2 = list(map(math.sqrt,r1))\n",
    "print(r2)\n"
   ]
  },
  {
   "cell_type": "markdown",
   "metadata": {},
   "source": [
    "* reduce(func(x,y),list) reduce的运算是一种迭代运算，func运算的结果作为下一次运算的累计值"
   ]
  },
  {
   "cell_type": "code",
   "execution_count": 17,
   "metadata": {},
   "outputs": [
    {
     "name": "stdout",
     "output_type": "stream",
     "text": [
      "['0', '1', '2', '3', '4']\n",
      "1234\n"
     ]
    }
   ],
   "source": [
    "from functools import reduce\n",
    "str1 = map(str,range(5))\n",
    "str1 = list(str1)\n",
    "print(str1)\n",
    "\n",
    "# 将字符串转换为一个整型数字\n",
    "def fun1(s1,s2):\n",
    "    return int(s1)*10+int(s2)\n",
    "i = reduce(fun1,str1)\n",
    "print(i)"
   ]
  },
  {
   "cell_type": "markdown",
   "metadata": {},
   "source": [
    "* filter（func，list）一个做删选的函数，根据返回值是true还是false判断丢弃还是保留该元素"
   ]
  },
  {
   "cell_type": "code",
   "execution_count": 23,
   "metadata": {},
   "outputs": [
    {
     "name": "stdout",
     "output_type": "stream",
     "text": [
      "<filter object at 0x0000025444F761D0>\n",
      "[-5, -4, -3, -2, -1]\n"
     ]
    }
   ],
   "source": [
    "num = range(-5,5)\n",
    "def fun2(x):\n",
    "    return x<0\n",
    "f_lis = filter(fun2,num)\n",
    "print(f_lis)\n",
    "f_lis = list(f_lis)\n",
    "print(f_lis)"
   ]
  },
  {
   "cell_type": "markdown",
   "metadata": {},
   "source": [
    "高阶函数中的func还可以通过匿名函数的形式写入，这样可以使得函数更为紧凑"
   ]
  }
 ],
 "metadata": {
  "kernelspec": {
   "display_name": "Python 3",
   "language": "python",
   "name": "python3"
  },
  "language_info": {
   "codemirror_mode": {
    "name": "ipython",
    "version": 3
   },
   "file_extension": ".py",
   "mimetype": "text/x-python",
   "name": "python",
   "nbconvert_exporter": "python",
   "pygments_lexer": "ipython3",
   "version": "3.6.4"
  }
 },
 "nbformat": 4,
 "nbformat_minor": 2
}
